{
  "cells": [
    {
      "cell_type": "code",
      "execution_count": null,
      "metadata": {
        "colab": {
          "base_uri": "https://localhost:8080/"
        },
        "id": "hivE8vcUPEiG",
        "outputId": "1206ceea-2e29-4220-cd3c-b2550173241d"
      },
      "outputs": [
        {
          "name": "stdout",
          "output_type": "stream",
          "text": [
            "/content/drive/MyDrive/yolo_v8/Plate_Recognizing/plate_recg/plate_read/Plate Reading \n"
          ]
        }
      ],
      "source": [
        "%cd \"/content/drive/MyDrive/yolo_v8/Plate_Recognizing/plate_recg/plate_read/Plate Reading \""
      ]
    },
    {
      "cell_type": "code",
      "execution_count": null,
      "metadata": {
        "colab": {
          "background_save": true,
          "base_uri": "https://localhost:8080/"
        },
        "id": "p0IBhr3xObWh",
        "outputId": "0ab0d807-c4e9-4a61-c7ce-fa9e7c95a405"
      },
      "outputs": [
        {
          "name": "stdout",
          "output_type": "stream",
          "text": [
            "Ultralytics 8.3.204 🚀 Python-3.12.11 torch-2.8.0+cu126 CPU (Intel Xeon CPU @ 2.20GHz)\n",
            "Setup complete ✅ (2 CPUs, 12.7 GB RAM, 39.4/107.7 GB disk)\n"
          ]
        }
      ],
      "source": [
        "%pip install ultralytics\n",
        "\n",
        "import ultralytics\n",
        "ultralytics.checks()"
      ]
    },
    {
      "cell_type": "code",
      "execution_count": null,
      "metadata": {
        "id": "wKpsjMnPOIjg"
      },
      "outputs": [],
      "source": [
        "import cv2\n",
        "import imutils\n",
        "from ultralytics import YOLO\n",
        "from google.colab.patches import cv2_imshow"
      ]
    },
    {
      "cell_type": "code",
      "execution_count": null,
      "metadata": {
        "id": "HKLJCvmyOg2v"
      },
      "outputs": [],
      "source": [
        "!yolo detect train data=data/config.yaml model=yolov11l.pt epochs=100 patience=30 imgsz=640 workers=8 batch=12 device=0 name=yolov11l-plate-reading"
      ]
    },
    {
      "cell_type": "code",
      "execution_count": null,
      "metadata": {
        "id": "GeqUzuaWOmfY"
      },
      "outputs": [],
      "source": [
        "!yolo detect predict model=runs/detect/yolov8n-plate-reading/weights/best.pt source=data/character_dataset/images/test save=True"
      ]
    }
  ],
  "metadata": {
    "accelerator": "GPU",
    "colab": {
      "gpuType": "T4",
      "provenance": []
    },
    "kernelspec": {
      "display_name": "Python 3",
      "name": "python3"
    },
    "language_info": {
      "name": "python"
    }
  },
  "nbformat": 4,
  "nbformat_minor": 0
}